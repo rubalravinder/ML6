{
 "cells": [
  {
   "cell_type": "markdown",
   "metadata": {},
   "source": [
    "# Forecasting with ML 📉\n",
    "\n",
    "One disadvantage of using ARIMA models is that they are linear. Hence they will underfit in situations where the underlying data is of non-linear form.\n",
    "\n",
    "One piece of recent open software is facebook's `prophet`. This uses a model which is similar to a **generalised additive model** (GAM), a class of additive (linear) models with potentially non-linear components. You can read more about the underlying model [here](https://peerj.com/preprints/3190/).\n",
    "\n",
    "As you are beginning to see time series forecasting can sometimes be as much an art as a science, and we know it takes quite some practice to become a good artist. The authors of the software had this in mind when they wrote it.  One of their aims is to provide software which can be used easily by those who have a little timeseries knowledge. Let's see how this goes....We will apply this software to the airline data now."
   ]
  },
  {
   "cell_type": "code",
   "execution_count": 1,
   "metadata": {},
   "outputs": [],
   "source": [
    "import pandas as pd\n",
    "import numpy as np\n",
    "import matplotlib.pyplot as plt\n",
    "from matplotlib import dates\n",
    "\n",
    "import seaborn as sns \n",
    "import matplotlib.style as style\n",
    "\n",
    "#! conda install -c conda-forge fbprophet"
   ]
  },
  {
   "cell_type": "markdown",
   "metadata": {},
   "source": [
    "# Example 1 - airline data\n",
    "\n",
    "We setup the data as we had done so before in the ARIMA example."
   ]
  },
  {
   "cell_type": "code",
   "execution_count": 2,
   "metadata": {},
   "outputs": [],
   "source": [
    "# !pip install pmdarima"
   ]
  },
  {
   "cell_type": "code",
   "execution_count": 3,
   "metadata": {},
   "outputs": [],
   "source": [
    "from pmdarima.datasets import load_airpassengers\n",
    "\n",
    "START_DATE = '1949-01-01'\n",
    "airline = load_airpassengers(as_series=True)\n",
    "\n",
    "#there's no datetimeindex from the bundled dataset. So let's add one.\n",
    "airline.index= pd.date_range(START_DATE, periods=len(airline), freq='MS')"
   ]
  },
  {
   "cell_type": "code",
   "execution_count": 4,
   "metadata": {},
   "outputs": [],
   "source": [
    "def ts_train_test_split(data, split_date):\n",
    "    '''\n",
    "    Split time series into training and test data\n",
    "    \n",
    "    Parameters:\n",
    "    -------\n",
    "    data - pd.DataFrame - time series data.  Index expected as datatimeindex\n",
    "    split_date - the date on which to split the time series\n",
    "    \n",
    "    Returns:\n",
    "    --------\n",
    "    tuple (len=2) \n",
    "    0. pandas.DataFrame - training dataset\n",
    "    1. pandas.DataFrame - test dataset\n",
    "    '''\n",
    "    train = data.loc[data.index < split_date]\n",
    "    test = data.loc[data.index >= split_date]\n",
    "    return train, test"
   ]
  },
  {
   "cell_type": "code",
   "execution_count": 5,
   "metadata": {},
   "outputs": [],
   "source": [
    "#for cv need all of the training data joined together.\n",
    "airline_adj = airline / airline.index.days_in_month\n",
    "\n",
    "train, test = ts_train_test_split(airline_adj, '1960-01-01')\n",
    "train_log, test_log = np.log(train), np.log(test) # get logged values for arima model\n"
   ]
  },
  {
   "cell_type": "markdown",
   "metadata": {},
   "source": [
    "## Forecasting with prophet\n",
    "\n",
    "Fitting a basic model and making predictions is very simple with `prophet`."
   ]
  },
  {
   "cell_type": "code",
   "execution_count": 6,
   "metadata": {},
   "outputs": [
    {
     "name": "stderr",
     "output_type": "stream",
     "text": [
      "Importing plotly failed. Interactive plots will not work.\n"
     ]
    }
   ],
   "source": [
    "from fbprophet import Prophet\n",
    "pd.plotting.register_matplotlib_converters() # required to fix plotting bug introduced by prophet"
   ]
  },
  {
   "cell_type": "markdown",
   "metadata": {},
   "source": [
    "Training data is expected in this df format below."
   ]
  },
  {
   "cell_type": "code",
   "execution_count": 7,
   "metadata": {},
   "outputs": [
    {
     "data": {
      "text/plain": [
       "1949-01-01     3.612903\n",
       "1949-02-01     4.214286\n",
       "1949-03-01     4.258065\n",
       "1949-04-01     4.300000\n",
       "1949-05-01     3.903226\n",
       "                ...    \n",
       "1959-08-01    18.032258\n",
       "1959-09-01    15.433333\n",
       "1959-10-01    13.129032\n",
       "1959-11-01    12.066667\n",
       "1959-12-01    13.064516\n",
       "Freq: MS, Length: 132, dtype: float64"
      ]
     },
     "execution_count": 7,
     "metadata": {},
     "output_type": "execute_result"
    }
   ],
   "source": [
    "train"
   ]
  },
  {
   "cell_type": "code",
   "execution_count": 8,
   "metadata": {},
   "outputs": [],
   "source": [
    "train_df = pd.DataFrame(train).reset_index().rename(columns = {0:'y','index':'ds'})"
   ]
  },
  {
   "cell_type": "code",
   "execution_count": 9,
   "metadata": {},
   "outputs": [
    {
     "data": {
      "text/html": [
       "<div>\n",
       "<style scoped>\n",
       "    .dataframe tbody tr th:only-of-type {\n",
       "        vertical-align: middle;\n",
       "    }\n",
       "\n",
       "    .dataframe tbody tr th {\n",
       "        vertical-align: top;\n",
       "    }\n",
       "\n",
       "    .dataframe thead th {\n",
       "        text-align: right;\n",
       "    }\n",
       "</style>\n",
       "<table border=\"1\" class=\"dataframe\">\n",
       "  <thead>\n",
       "    <tr style=\"text-align: right;\">\n",
       "      <th></th>\n",
       "      <th>ds</th>\n",
       "      <th>y</th>\n",
       "    </tr>\n",
       "  </thead>\n",
       "  <tbody>\n",
       "    <tr>\n",
       "      <th>127</th>\n",
       "      <td>1959-08-01</td>\n",
       "      <td>18.032258</td>\n",
       "    </tr>\n",
       "    <tr>\n",
       "      <th>128</th>\n",
       "      <td>1959-09-01</td>\n",
       "      <td>15.433333</td>\n",
       "    </tr>\n",
       "    <tr>\n",
       "      <th>129</th>\n",
       "      <td>1959-10-01</td>\n",
       "      <td>13.129032</td>\n",
       "    </tr>\n",
       "    <tr>\n",
       "      <th>130</th>\n",
       "      <td>1959-11-01</td>\n",
       "      <td>12.066667</td>\n",
       "    </tr>\n",
       "    <tr>\n",
       "      <th>131</th>\n",
       "      <td>1959-12-01</td>\n",
       "      <td>13.064516</td>\n",
       "    </tr>\n",
       "  </tbody>\n",
       "</table>\n",
       "</div>"
      ],
      "text/plain": [
       "            ds          y\n",
       "127 1959-08-01  18.032258\n",
       "128 1959-09-01  15.433333\n",
       "129 1959-10-01  13.129032\n",
       "130 1959-11-01  12.066667\n",
       "131 1959-12-01  13.064516"
      ]
     },
     "execution_count": 9,
     "metadata": {},
     "output_type": "execute_result"
    }
   ],
   "source": [
    "train_df.tail()"
   ]
  },
  {
   "cell_type": "markdown",
   "metadata": {},
   "source": [
    "Fit model..."
   ]
  },
  {
   "cell_type": "code",
   "execution_count": 10,
   "metadata": {},
   "outputs": [
    {
     "name": "stderr",
     "output_type": "stream",
     "text": [
      "INFO:fbprophet:Disabling weekly seasonality. Run prophet with weekly_seasonality=True to override this.\n",
      "INFO:fbprophet:Disabling daily seasonality. Run prophet with daily_seasonality=True to override this.\n"
     ]
    },
    {
     "data": {
      "text/plain": [
       "<fbprophet.forecaster.Prophet at 0x7f36dc476160>"
      ]
     },
     "execution_count": 10,
     "metadata": {},
     "output_type": "execute_result"
    }
   ],
   "source": [
    "model = Prophet()\n",
    "model.fit(train_df)"
   ]
  },
  {
   "cell_type": "markdown",
   "metadata": {},
   "source": [
    "Make predictions..."
   ]
  },
  {
   "cell_type": "code",
   "execution_count": 11,
   "metadata": {},
   "outputs": [
    {
     "data": {
      "text/html": [
       "<div>\n",
       "<style scoped>\n",
       "    .dataframe tbody tr th:only-of-type {\n",
       "        vertical-align: middle;\n",
       "    }\n",
       "\n",
       "    .dataframe tbody tr th {\n",
       "        vertical-align: top;\n",
       "    }\n",
       "\n",
       "    .dataframe thead th {\n",
       "        text-align: right;\n",
       "    }\n",
       "</style>\n",
       "<table border=\"1\" class=\"dataframe\">\n",
       "  <thead>\n",
       "    <tr style=\"text-align: right;\">\n",
       "      <th></th>\n",
       "      <th>ds</th>\n",
       "    </tr>\n",
       "  </thead>\n",
       "  <tbody>\n",
       "    <tr>\n",
       "      <th>0</th>\n",
       "      <td>1949-01-01</td>\n",
       "    </tr>\n",
       "    <tr>\n",
       "      <th>1</th>\n",
       "      <td>1949-02-01</td>\n",
       "    </tr>\n",
       "    <tr>\n",
       "      <th>2</th>\n",
       "      <td>1949-03-01</td>\n",
       "    </tr>\n",
       "    <tr>\n",
       "      <th>3</th>\n",
       "      <td>1949-04-01</td>\n",
       "    </tr>\n",
       "    <tr>\n",
       "      <th>4</th>\n",
       "      <td>1949-05-01</td>\n",
       "    </tr>\n",
       "  </tbody>\n",
       "</table>\n",
       "</div>"
      ],
      "text/plain": [
       "          ds\n",
       "0 1949-01-01\n",
       "1 1949-02-01\n",
       "2 1949-03-01\n",
       "3 1949-04-01\n",
       "4 1949-05-01"
      ]
     },
     "execution_count": 11,
     "metadata": {},
     "output_type": "execute_result"
    }
   ],
   "source": [
    "future = model.make_future_dataframe(periods=12, freq='MS', include_history=True) #create a dataframe with the prediction datetimes we want\n",
    "future.head()"
   ]
  },
  {
   "cell_type": "code",
   "execution_count": 12,
   "metadata": {},
   "outputs": [],
   "source": [
    "forecast = model.predict(future)\n",
    "y_pred = forecast[['ds', 'yhat', 'yhat_lower', 'yhat_upper']].set_index('ds')"
   ]
  },
  {
   "cell_type": "code",
   "execution_count": 13,
   "metadata": {},
   "outputs": [
    {
     "data": {
      "text/html": [
       "<div>\n",
       "<style scoped>\n",
       "    .dataframe tbody tr th:only-of-type {\n",
       "        vertical-align: middle;\n",
       "    }\n",
       "\n",
       "    .dataframe tbody tr th {\n",
       "        vertical-align: top;\n",
       "    }\n",
       "\n",
       "    .dataframe thead th {\n",
       "        text-align: right;\n",
       "    }\n",
       "</style>\n",
       "<table border=\"1\" class=\"dataframe\">\n",
       "  <thead>\n",
       "    <tr style=\"text-align: right;\">\n",
       "      <th></th>\n",
       "      <th>yhat</th>\n",
       "      <th>yhat_lower</th>\n",
       "      <th>yhat_upper</th>\n",
       "    </tr>\n",
       "    <tr>\n",
       "      <th>ds</th>\n",
       "      <th></th>\n",
       "      <th></th>\n",
       "      <th></th>\n",
       "    </tr>\n",
       "  </thead>\n",
       "  <tbody>\n",
       "    <tr>\n",
       "      <th>1949-01-01</th>\n",
       "      <td>2.657704</td>\n",
       "      <td>1.806178</td>\n",
       "      <td>3.531506</td>\n",
       "    </tr>\n",
       "    <tr>\n",
       "      <th>1949-02-01</th>\n",
       "      <td>3.164883</td>\n",
       "      <td>2.364821</td>\n",
       "      <td>3.982123</td>\n",
       "    </tr>\n",
       "    <tr>\n",
       "      <th>1949-03-01</th>\n",
       "      <td>3.687220</td>\n",
       "      <td>2.902243</td>\n",
       "      <td>4.465983</td>\n",
       "    </tr>\n",
       "    <tr>\n",
       "      <th>1949-04-01</th>\n",
       "      <td>3.736369</td>\n",
       "      <td>2.954566</td>\n",
       "      <td>4.539508</td>\n",
       "    </tr>\n",
       "    <tr>\n",
       "      <th>1949-05-01</th>\n",
       "      <td>3.555718</td>\n",
       "      <td>2.756873</td>\n",
       "      <td>4.369707</td>\n",
       "    </tr>\n",
       "    <tr>\n",
       "      <th>...</th>\n",
       "      <td>...</td>\n",
       "      <td>...</td>\n",
       "      <td>...</td>\n",
       "    </tr>\n",
       "    <tr>\n",
       "      <th>1960-08-01</th>\n",
       "      <td>17.069468</td>\n",
       "      <td>16.251905</td>\n",
       "      <td>17.863179</td>\n",
       "    </tr>\n",
       "    <tr>\n",
       "      <th>1960-09-01</th>\n",
       "      <td>16.094747</td>\n",
       "      <td>15.303941</td>\n",
       "      <td>16.866754</td>\n",
       "    </tr>\n",
       "    <tr>\n",
       "      <th>1960-10-01</th>\n",
       "      <td>14.754471</td>\n",
       "      <td>13.993364</td>\n",
       "      <td>15.592517</td>\n",
       "    </tr>\n",
       "    <tr>\n",
       "      <th>1960-11-01</th>\n",
       "      <td>14.041297</td>\n",
       "      <td>13.241531</td>\n",
       "      <td>14.881046</td>\n",
       "    </tr>\n",
       "    <tr>\n",
       "      <th>1960-12-01</th>\n",
       "      <td>14.552489</td>\n",
       "      <td>13.768061</td>\n",
       "      <td>15.402484</td>\n",
       "    </tr>\n",
       "  </tbody>\n",
       "</table>\n",
       "<p>144 rows × 3 columns</p>\n",
       "</div>"
      ],
      "text/plain": [
       "                 yhat  yhat_lower  yhat_upper\n",
       "ds                                           \n",
       "1949-01-01   2.657704    1.806178    3.531506\n",
       "1949-02-01   3.164883    2.364821    3.982123\n",
       "1949-03-01   3.687220    2.902243    4.465983\n",
       "1949-04-01   3.736369    2.954566    4.539508\n",
       "1949-05-01   3.555718    2.756873    4.369707\n",
       "...               ...         ...         ...\n",
       "1960-08-01  17.069468   16.251905   17.863179\n",
       "1960-09-01  16.094747   15.303941   16.866754\n",
       "1960-10-01  14.754471   13.993364   15.592517\n",
       "1960-11-01  14.041297   13.241531   14.881046\n",
       "1960-12-01  14.552489   13.768061   15.402484\n",
       "\n",
       "[144 rows x 3 columns]"
      ]
     },
     "execution_count": 13,
     "metadata": {},
     "output_type": "execute_result"
    }
   ],
   "source": [
    "y_pred"
   ]
  },
  {
   "cell_type": "code",
   "execution_count": 14,
   "metadata": {},
   "outputs": [
    {
     "data": {
      "text/html": [
       "<div>\n",
       "<style scoped>\n",
       "    .dataframe tbody tr th:only-of-type {\n",
       "        vertical-align: middle;\n",
       "    }\n",
       "\n",
       "    .dataframe tbody tr th {\n",
       "        vertical-align: top;\n",
       "    }\n",
       "\n",
       "    .dataframe thead th {\n",
       "        text-align: right;\n",
       "    }\n",
       "</style>\n",
       "<table border=\"1\" class=\"dataframe\">\n",
       "  <thead>\n",
       "    <tr style=\"text-align: right;\">\n",
       "      <th></th>\n",
       "      <th>ds</th>\n",
       "      <th>trend</th>\n",
       "      <th>yhat_lower</th>\n",
       "      <th>yhat_upper</th>\n",
       "      <th>trend_lower</th>\n",
       "      <th>trend_upper</th>\n",
       "      <th>additive_terms</th>\n",
       "      <th>additive_terms_lower</th>\n",
       "      <th>additive_terms_upper</th>\n",
       "      <th>yearly</th>\n",
       "      <th>yearly_lower</th>\n",
       "      <th>yearly_upper</th>\n",
       "      <th>multiplicative_terms</th>\n",
       "      <th>multiplicative_terms_lower</th>\n",
       "      <th>multiplicative_terms_upper</th>\n",
       "      <th>yhat</th>\n",
       "    </tr>\n",
       "  </thead>\n",
       "  <tbody>\n",
       "    <tr>\n",
       "      <th>0</th>\n",
       "      <td>1949-01-01</td>\n",
       "      <td>3.600599</td>\n",
       "      <td>1.806178</td>\n",
       "      <td>3.531506</td>\n",
       "      <td>3.600599</td>\n",
       "      <td>3.600599</td>\n",
       "      <td>-0.942895</td>\n",
       "      <td>-0.942895</td>\n",
       "      <td>-0.942895</td>\n",
       "      <td>-0.942895</td>\n",
       "      <td>-0.942895</td>\n",
       "      <td>-0.942895</td>\n",
       "      <td>0.0</td>\n",
       "      <td>0.0</td>\n",
       "      <td>0.0</td>\n",
       "      <td>2.657704</td>\n",
       "    </tr>\n",
       "    <tr>\n",
       "      <th>1</th>\n",
       "      <td>1949-02-01</td>\n",
       "      <td>3.670719</td>\n",
       "      <td>2.364821</td>\n",
       "      <td>3.982123</td>\n",
       "      <td>3.670719</td>\n",
       "      <td>3.670719</td>\n",
       "      <td>-0.505836</td>\n",
       "      <td>-0.505836</td>\n",
       "      <td>-0.505836</td>\n",
       "      <td>-0.505836</td>\n",
       "      <td>-0.505836</td>\n",
       "      <td>-0.505836</td>\n",
       "      <td>0.0</td>\n",
       "      <td>0.0</td>\n",
       "      <td>0.0</td>\n",
       "      <td>3.164883</td>\n",
       "    </tr>\n",
       "    <tr>\n",
       "      <th>2</th>\n",
       "      <td>1949-03-01</td>\n",
       "      <td>3.734053</td>\n",
       "      <td>2.902243</td>\n",
       "      <td>4.465983</td>\n",
       "      <td>3.734053</td>\n",
       "      <td>3.734053</td>\n",
       "      <td>-0.046833</td>\n",
       "      <td>-0.046833</td>\n",
       "      <td>-0.046833</td>\n",
       "      <td>-0.046833</td>\n",
       "      <td>-0.046833</td>\n",
       "      <td>-0.046833</td>\n",
       "      <td>0.0</td>\n",
       "      <td>0.0</td>\n",
       "      <td>0.0</td>\n",
       "      <td>3.687220</td>\n",
       "    </tr>\n",
       "    <tr>\n",
       "      <th>3</th>\n",
       "      <td>1949-04-01</td>\n",
       "      <td>3.804172</td>\n",
       "      <td>2.954566</td>\n",
       "      <td>4.539508</td>\n",
       "      <td>3.804172</td>\n",
       "      <td>3.804172</td>\n",
       "      <td>-0.067803</td>\n",
       "      <td>-0.067803</td>\n",
       "      <td>-0.067803</td>\n",
       "      <td>-0.067803</td>\n",
       "      <td>-0.067803</td>\n",
       "      <td>-0.067803</td>\n",
       "      <td>0.0</td>\n",
       "      <td>0.0</td>\n",
       "      <td>0.0</td>\n",
       "      <td>3.736369</td>\n",
       "    </tr>\n",
       "    <tr>\n",
       "      <th>4</th>\n",
       "      <td>1949-05-01</td>\n",
       "      <td>3.872030</td>\n",
       "      <td>2.756873</td>\n",
       "      <td>4.369707</td>\n",
       "      <td>3.872030</td>\n",
       "      <td>3.872030</td>\n",
       "      <td>-0.316312</td>\n",
       "      <td>-0.316312</td>\n",
       "      <td>-0.316312</td>\n",
       "      <td>-0.316312</td>\n",
       "      <td>-0.316312</td>\n",
       "      <td>-0.316312</td>\n",
       "      <td>0.0</td>\n",
       "      <td>0.0</td>\n",
       "      <td>0.0</td>\n",
       "      <td>3.555718</td>\n",
       "    </tr>\n",
       "    <tr>\n",
       "      <th>...</th>\n",
       "      <td>...</td>\n",
       "      <td>...</td>\n",
       "      <td>...</td>\n",
       "      <td>...</td>\n",
       "      <td>...</td>\n",
       "      <td>...</td>\n",
       "      <td>...</td>\n",
       "      <td>...</td>\n",
       "      <td>...</td>\n",
       "      <td>...</td>\n",
       "      <td>...</td>\n",
       "      <td>...</td>\n",
       "      <td>...</td>\n",
       "      <td>...</td>\n",
       "      <td>...</td>\n",
       "      <td>...</td>\n",
       "    </tr>\n",
       "    <tr>\n",
       "      <th>139</th>\n",
       "      <td>1960-08-01</td>\n",
       "      <td>15.364654</td>\n",
       "      <td>16.251905</td>\n",
       "      <td>17.863179</td>\n",
       "      <td>15.355785</td>\n",
       "      <td>15.374643</td>\n",
       "      <td>1.704814</td>\n",
       "      <td>1.704814</td>\n",
       "      <td>1.704814</td>\n",
       "      <td>1.704814</td>\n",
       "      <td>1.704814</td>\n",
       "      <td>1.704814</td>\n",
       "      <td>0.0</td>\n",
       "      <td>0.0</td>\n",
       "      <td>0.0</td>\n",
       "      <td>17.069468</td>\n",
       "    </tr>\n",
       "    <tr>\n",
       "      <th>140</th>\n",
       "      <td>1960-09-01</td>\n",
       "      <td>15.463749</td>\n",
       "      <td>15.303941</td>\n",
       "      <td>16.866754</td>\n",
       "      <td>15.453065</td>\n",
       "      <td>15.476039</td>\n",
       "      <td>0.630998</td>\n",
       "      <td>0.630998</td>\n",
       "      <td>0.630998</td>\n",
       "      <td>0.630998</td>\n",
       "      <td>0.630998</td>\n",
       "      <td>0.630998</td>\n",
       "      <td>0.0</td>\n",
       "      <td>0.0</td>\n",
       "      <td>0.0</td>\n",
       "      <td>16.094747</td>\n",
       "    </tr>\n",
       "    <tr>\n",
       "      <th>141</th>\n",
       "      <td>1960-10-01</td>\n",
       "      <td>15.559647</td>\n",
       "      <td>13.993364</td>\n",
       "      <td>15.592517</td>\n",
       "      <td>15.546638</td>\n",
       "      <td>15.574240</td>\n",
       "      <td>-0.805175</td>\n",
       "      <td>-0.805175</td>\n",
       "      <td>-0.805175</td>\n",
       "      <td>-0.805175</td>\n",
       "      <td>-0.805175</td>\n",
       "      <td>-0.805175</td>\n",
       "      <td>0.0</td>\n",
       "      <td>0.0</td>\n",
       "      <td>0.0</td>\n",
       "      <td>14.754471</td>\n",
       "    </tr>\n",
       "    <tr>\n",
       "      <th>142</th>\n",
       "      <td>1960-11-01</td>\n",
       "      <td>15.658741</td>\n",
       "      <td>13.241531</td>\n",
       "      <td>14.881046</td>\n",
       "      <td>15.643471</td>\n",
       "      <td>15.675712</td>\n",
       "      <td>-1.617444</td>\n",
       "      <td>-1.617444</td>\n",
       "      <td>-1.617444</td>\n",
       "      <td>-1.617444</td>\n",
       "      <td>-1.617444</td>\n",
       "      <td>-1.617444</td>\n",
       "      <td>0.0</td>\n",
       "      <td>0.0</td>\n",
       "      <td>0.0</td>\n",
       "      <td>14.041297</td>\n",
       "    </tr>\n",
       "    <tr>\n",
       "      <th>143</th>\n",
       "      <td>1960-12-01</td>\n",
       "      <td>15.754639</td>\n",
       "      <td>13.768061</td>\n",
       "      <td>15.402484</td>\n",
       "      <td>15.736888</td>\n",
       "      <td>15.774228</td>\n",
       "      <td>-1.202150</td>\n",
       "      <td>-1.202150</td>\n",
       "      <td>-1.202150</td>\n",
       "      <td>-1.202150</td>\n",
       "      <td>-1.202150</td>\n",
       "      <td>-1.202150</td>\n",
       "      <td>0.0</td>\n",
       "      <td>0.0</td>\n",
       "      <td>0.0</td>\n",
       "      <td>14.552489</td>\n",
       "    </tr>\n",
       "  </tbody>\n",
       "</table>\n",
       "<p>144 rows × 16 columns</p>\n",
       "</div>"
      ],
      "text/plain": [
       "            ds      trend  yhat_lower  yhat_upper  trend_lower  trend_upper  \\\n",
       "0   1949-01-01   3.600599    1.806178    3.531506     3.600599     3.600599   \n",
       "1   1949-02-01   3.670719    2.364821    3.982123     3.670719     3.670719   \n",
       "2   1949-03-01   3.734053    2.902243    4.465983     3.734053     3.734053   \n",
       "3   1949-04-01   3.804172    2.954566    4.539508     3.804172     3.804172   \n",
       "4   1949-05-01   3.872030    2.756873    4.369707     3.872030     3.872030   \n",
       "..         ...        ...         ...         ...          ...          ...   \n",
       "139 1960-08-01  15.364654   16.251905   17.863179    15.355785    15.374643   \n",
       "140 1960-09-01  15.463749   15.303941   16.866754    15.453065    15.476039   \n",
       "141 1960-10-01  15.559647   13.993364   15.592517    15.546638    15.574240   \n",
       "142 1960-11-01  15.658741   13.241531   14.881046    15.643471    15.675712   \n",
       "143 1960-12-01  15.754639   13.768061   15.402484    15.736888    15.774228   \n",
       "\n",
       "     additive_terms  additive_terms_lower  additive_terms_upper    yearly  \\\n",
       "0         -0.942895             -0.942895             -0.942895 -0.942895   \n",
       "1         -0.505836             -0.505836             -0.505836 -0.505836   \n",
       "2         -0.046833             -0.046833             -0.046833 -0.046833   \n",
       "3         -0.067803             -0.067803             -0.067803 -0.067803   \n",
       "4         -0.316312             -0.316312             -0.316312 -0.316312   \n",
       "..              ...                   ...                   ...       ...   \n",
       "139        1.704814              1.704814              1.704814  1.704814   \n",
       "140        0.630998              0.630998              0.630998  0.630998   \n",
       "141       -0.805175             -0.805175             -0.805175 -0.805175   \n",
       "142       -1.617444             -1.617444             -1.617444 -1.617444   \n",
       "143       -1.202150             -1.202150             -1.202150 -1.202150   \n",
       "\n",
       "     yearly_lower  yearly_upper  multiplicative_terms  \\\n",
       "0       -0.942895     -0.942895                   0.0   \n",
       "1       -0.505836     -0.505836                   0.0   \n",
       "2       -0.046833     -0.046833                   0.0   \n",
       "3       -0.067803     -0.067803                   0.0   \n",
       "4       -0.316312     -0.316312                   0.0   \n",
       "..            ...           ...                   ...   \n",
       "139      1.704814      1.704814                   0.0   \n",
       "140      0.630998      0.630998                   0.0   \n",
       "141     -0.805175     -0.805175                   0.0   \n",
       "142     -1.617444     -1.617444                   0.0   \n",
       "143     -1.202150     -1.202150                   0.0   \n",
       "\n",
       "     multiplicative_terms_lower  multiplicative_terms_upper       yhat  \n",
       "0                           0.0                         0.0   2.657704  \n",
       "1                           0.0                         0.0   3.164883  \n",
       "2                           0.0                         0.0   3.687220  \n",
       "3                           0.0                         0.0   3.736369  \n",
       "4                           0.0                         0.0   3.555718  \n",
       "..                          ...                         ...        ...  \n",
       "139                         0.0                         0.0  17.069468  \n",
       "140                         0.0                         0.0  16.094747  \n",
       "141                         0.0                         0.0  14.754471  \n",
       "142                         0.0                         0.0  14.041297  \n",
       "143                         0.0                         0.0  14.552489  \n",
       "\n",
       "[144 rows x 16 columns]"
      ]
     },
     "execution_count": 14,
     "metadata": {},
     "output_type": "execute_result"
    }
   ],
   "source": [
    "forecast"
   ]
  },
  {
   "cell_type": "markdown",
   "metadata": {},
   "source": [
    "Plot predictions..."
   ]
  },
  {
   "cell_type": "code",
   "execution_count": 15,
   "metadata": {},
   "outputs": [
    {
     "data": {
      "image/png": "[encoded data removed]",
      "text/plain": [
       "<Figure size 720x432 with 1 Axes>"
      ]
     },
     "metadata": {},
     "output_type": "display_data"
    }
   ],
   "source": [
    "fig = model.plot(forecast)\n",
    "# test.plot(style='.r')"
   ]
  },
  {
   "cell_type": "code",
   "execution_count": 16,
   "metadata": {},
   "outputs": [
    {
     "data": {
      "text/plain": [
       "<matplotlib.collections.PathCollection at 0x7f364df82640>"
      ]
     },
     "execution_count": 16,
     "metadata": {},
     "output_type": "execute_result"
    },
    {
     "data": {
      "image/png": "[encoded data removed]",
      "text/plain": [
       "<Figure size 432x288 with 1 Axes>"
      ]
     },
     "metadata": {
      "needs_background": "light"
     },
     "output_type": "display_data"
    }
   ],
   "source": [
    "plt.scatter(x=train_df['ds'],y=train_df['y'])"
   ]
  },
  {
   "cell_type": "markdown",
   "metadata": {},
   "source": [
    "Evaluating this baseline model error on test set..."
   ]
  },
  {
   "cell_type": "code",
   "execution_count": 17,
   "metadata": {},
   "outputs": [],
   "source": [
    "def mean_absolute_percentage_error(y_true, y_pred):\n",
    "    '''\n",
    "    MAPE\n",
    "\n",
    "    Parameters:\n",
    "    --------\n",
    "    y_true -- np.array actual observations from time series\n",
    "    y_pred -- the predictions to evaluate\n",
    "\n",
    "    Returns:\n",
    "    -------\n",
    "    float, scalar value representing the MAPE (0-100)\n",
    "    '''\n",
    "    #y_true, y_pred = np.array(y_true), np.array(y_pred)\n",
    "    return np.mean(np.abs((y_true - y_pred) / y_true)) * 100"
   ]
  },
  {
   "cell_type": "code",
   "execution_count": 18,
   "metadata": {},
   "outputs": [
    {
     "data": {
      "text/plain": [
       "6.656999855761518"
      ]
     },
     "execution_count": 18,
     "metadata": {},
     "output_type": "execute_result"
    }
   ],
   "source": [
    "mean_absolute_percentage_error(test.values , forecast['yhat'][-12:])"
   ]
  },
  {
   "cell_type": "markdown",
   "metadata": {},
   "source": [
    "We at least see it beats the naive model scores  that we saw in the last notebook (from the unlogged data). Not bad for only several lines of code. But looking at the plot it is clearly not fitting well. We should use cross validation to find a better fitting model (before we evaluated in the test set!)."
   ]
  },
  {
   "cell_type": "markdown",
   "metadata": {},
   "source": [
    "## Cross validation in prophet\n",
    "\n",
    "There are cross validation functions in `prophet` that take care of time series data and can perform adjustable rolling windows as we had previously seen in other time series cross validation functions."
   ]
  },
  {
   "cell_type": "code",
   "execution_count": 19,
   "metadata": {},
   "outputs": [],
   "source": [
    "from fbprophet.diagnostics import cross_validation\n",
    "from fbprophet.diagnostics import performance_metrics\n",
    "from fbprophet.plot import plot_cross_validation_metric"
   ]
  },
  {
   "cell_type": "code",
   "execution_count": 20,
   "metadata": {},
   "outputs": [
    {
     "data": {
      "text/plain": [
       "1461.0"
      ]
     },
     "execution_count": 20,
     "metadata": {},
     "output_type": "execute_result"
    }
   ],
   "source": [
    "365.25*4"
   ]
  },
  {
   "cell_type": "code",
   "execution_count": 21,
   "metadata": {},
   "outputs": [
    {
     "name": "stderr",
     "output_type": "stream",
     "text": [
      "INFO:fbprophet:Disabling weekly seasonality. Run prophet with weekly_seasonality=True to override this.\n",
      "INFO:fbprophet:Disabling daily seasonality. Run prophet with daily_seasonality=True to override this.\n",
      "INFO:fbprophet:Making 6 forecasts with cutoffs between 1953-12-02 00:00:00 and 1958-12-01 00:00:00\n"
     ]
    },
    {
     "data": {
      "application/vnd.jupyter.widget-view+json": {
       "model_id": "fb706317ef844859bde5f9e921f4845e",
       "version_major": 2,
       "version_minor": 0
      },
      "text/plain": [
       "  0%|          | 0/6 [00:00<?, ?it/s]"
      ]
     },
     "metadata": {},
     "output_type": "display_data"
    }
   ],
   "source": [
    "model = Prophet()\n",
    "model.fit(train_df)\n",
    "df_cv = cross_validation(model, initial='1461 days', period='365 days', horizon = '365 days')"
   ]
  },
  {
   "cell_type": "code",
   "execution_count": 22,
   "metadata": {},
   "outputs": [
    {
     "data": {
      "text/html": [
       "<div>\n",
       "<style scoped>\n",
       "    .dataframe tbody tr th:only-of-type {\n",
       "        vertical-align: middle;\n",
       "    }\n",
       "\n",
       "    .dataframe tbody tr th {\n",
       "        vertical-align: top;\n",
       "    }\n",
       "\n",
       "    .dataframe thead th {\n",
       "        text-align: right;\n",
       "    }\n",
       "</style>\n",
       "<table border=\"1\" class=\"dataframe\">\n",
       "  <thead>\n",
       "    <tr style=\"text-align: right;\">\n",
       "      <th></th>\n",
       "      <th>ds</th>\n",
       "      <th>yhat</th>\n",
       "      <th>yhat_lower</th>\n",
       "      <th>yhat_upper</th>\n",
       "      <th>y</th>\n",
       "      <th>cutoff</th>\n",
       "    </tr>\n",
       "  </thead>\n",
       "  <tbody>\n",
       "    <tr>\n",
       "      <th>0</th>\n",
       "      <td>1954-01-01</td>\n",
       "      <td>7.374734</td>\n",
       "      <td>7.089961</td>\n",
       "      <td>7.628286</td>\n",
       "      <td>6.580645</td>\n",
       "      <td>1953-12-02</td>\n",
       "    </tr>\n",
       "    <tr>\n",
       "      <th>1</th>\n",
       "      <td>1954-02-01</td>\n",
       "      <td>8.073018</td>\n",
       "      <td>7.812251</td>\n",
       "      <td>8.336797</td>\n",
       "      <td>6.714286</td>\n",
       "      <td>1953-12-02</td>\n",
       "    </tr>\n",
       "    <tr>\n",
       "      <th>2</th>\n",
       "      <td>1954-03-01</td>\n",
       "      <td>8.316081</td>\n",
       "      <td>8.049958</td>\n",
       "      <td>8.583677</td>\n",
       "      <td>7.580645</td>\n",
       "      <td>1953-12-02</td>\n",
       "    </tr>\n",
       "    <tr>\n",
       "      <th>3</th>\n",
       "      <td>1954-04-01</td>\n",
       "      <td>8.248502</td>\n",
       "      <td>7.981992</td>\n",
       "      <td>8.523389</td>\n",
       "      <td>7.566667</td>\n",
       "      <td>1953-12-02</td>\n",
       "    </tr>\n",
       "    <tr>\n",
       "      <th>4</th>\n",
       "      <td>1954-05-01</td>\n",
       "      <td>8.062861</td>\n",
       "      <td>7.803262</td>\n",
       "      <td>8.311088</td>\n",
       "      <td>7.548387</td>\n",
       "      <td>1953-12-02</td>\n",
       "    </tr>\n",
       "  </tbody>\n",
       "</table>\n",
       "</div>"
      ],
      "text/plain": [
       "          ds      yhat  yhat_lower  yhat_upper         y     cutoff\n",
       "0 1954-01-01  7.374734    7.089961    7.628286  6.580645 1953-12-02\n",
       "1 1954-02-01  8.073018    7.812251    8.336797  6.714286 1953-12-02\n",
       "2 1954-03-01  8.316081    8.049958    8.583677  7.580645 1953-12-02\n",
       "3 1954-04-01  8.248502    7.981992    8.523389  7.566667 1953-12-02\n",
       "4 1954-05-01  8.062861    7.803262    8.311088  7.548387 1953-12-02"
      ]
     },
     "execution_count": 22,
     "metadata": {},
     "output_type": "execute_result"
    }
   ],
   "source": [
    "df_cv.head()"
   ]
  },
  {
   "cell_type": "markdown",
   "metadata": {},
   "source": [
    "A function for performance metrics and plotting..."
   ]
  },
  {
   "cell_type": "code",
   "execution_count": 23,
   "metadata": {},
   "outputs": [],
   "source": [
    "df_p = performance_metrics(df_cv)"
   ]
  },
  {
   "cell_type": "code",
   "execution_count": 24,
   "metadata": {},
   "outputs": [
    {
     "data": {
      "text/html": [
       "<div>\n",
       "<style scoped>\n",
       "    .dataframe tbody tr th:only-of-type {\n",
       "        vertical-align: middle;\n",
       "    }\n",
       "\n",
       "    .dataframe tbody tr th {\n",
       "        vertical-align: top;\n",
       "    }\n",
       "\n",
       "    .dataframe thead th {\n",
       "        text-align: right;\n",
       "    }\n",
       "</style>\n",
       "<table border=\"1\" class=\"dataframe\">\n",
       "  <thead>\n",
       "    <tr style=\"text-align: right;\">\n",
       "      <th></th>\n",
       "      <th>horizon</th>\n",
       "      <th>mse</th>\n",
       "      <th>rmse</th>\n",
       "      <th>mae</th>\n",
       "      <th>mape</th>\n",
       "      <th>mdape</th>\n",
       "      <th>coverage</th>\n",
       "    </tr>\n",
       "  </thead>\n",
       "  <tbody>\n",
       "    <tr>\n",
       "      <th>0</th>\n",
       "      <td>61 days</td>\n",
       "      <td>0.731749</td>\n",
       "      <td>0.855423</td>\n",
       "      <td>0.708125</td>\n",
       "      <td>0.079015</td>\n",
       "      <td>0.071685</td>\n",
       "      <td>0.380952</td>\n",
       "    </tr>\n",
       "    <tr>\n",
       "      <th>1</th>\n",
       "      <td>62 days</td>\n",
       "      <td>0.900625</td>\n",
       "      <td>0.949012</td>\n",
       "      <td>0.825101</td>\n",
       "      <td>0.085354</td>\n",
       "      <td>0.086172</td>\n",
       "      <td>0.285714</td>\n",
       "    </tr>\n",
       "    <tr>\n",
       "      <th>2</th>\n",
       "      <td>89 days</td>\n",
       "      <td>0.744382</td>\n",
       "      <td>0.862776</td>\n",
       "      <td>0.713703</td>\n",
       "      <td>0.075617</td>\n",
       "      <td>0.086172</td>\n",
       "      <td>0.333333</td>\n",
       "    </tr>\n",
       "    <tr>\n",
       "      <th>3</th>\n",
       "      <td>90 days</td>\n",
       "      <td>0.574954</td>\n",
       "      <td>0.758257</td>\n",
       "      <td>0.584116</td>\n",
       "      <td>0.054702</td>\n",
       "      <td>0.041338</td>\n",
       "      <td>0.571429</td>\n",
       "    </tr>\n",
       "    <tr>\n",
       "      <th>4</th>\n",
       "      <td>120 days</td>\n",
       "      <td>0.471565</td>\n",
       "      <td>0.686706</td>\n",
       "      <td>0.544250</td>\n",
       "      <td>0.054785</td>\n",
       "      <td>0.050609</td>\n",
       "      <td>0.500000</td>\n",
       "    </tr>\n",
       "  </tbody>\n",
       "</table>\n",
       "</div>"
      ],
      "text/plain": [
       "   horizon       mse      rmse       mae      mape     mdape  coverage\n",
       "0  61 days  0.731749  0.855423  0.708125  0.079015  0.071685  0.380952\n",
       "1  62 days  0.900625  0.949012  0.825101  0.085354  0.086172  0.285714\n",
       "2  89 days  0.744382  0.862776  0.713703  0.075617  0.086172  0.333333\n",
       "3  90 days  0.574954  0.758257  0.584116  0.054702  0.041338  0.571429\n",
       "4 120 days  0.471565  0.686706  0.544250  0.054785  0.050609  0.500000"
      ]
     },
     "execution_count": 24,
     "metadata": {},
     "output_type": "execute_result"
    }
   ],
   "source": [
    "df_p.head()"
   ]
  },
  {
   "cell_type": "code",
   "execution_count": 25,
   "metadata": {},
   "outputs": [
    {
     "data": {
      "text/html": [
       "<div>\n",
       "<style scoped>\n",
       "    .dataframe tbody tr th:only-of-type {\n",
       "        vertical-align: middle;\n",
       "    }\n",
       "\n",
       "    .dataframe tbody tr th {\n",
       "        vertical-align: top;\n",
       "    }\n",
       "\n",
       "    .dataframe thead th {\n",
       "        text-align: right;\n",
       "    }\n",
       "</style>\n",
       "<table border=\"1\" class=\"dataframe\">\n",
       "  <thead>\n",
       "    <tr style=\"text-align: right;\">\n",
       "      <th></th>\n",
       "      <th>horizon</th>\n",
       "      <th>mse</th>\n",
       "      <th>rmse</th>\n",
       "      <th>mae</th>\n",
       "      <th>mape</th>\n",
       "      <th>mdape</th>\n",
       "      <th>coverage</th>\n",
       "    </tr>\n",
       "  </thead>\n",
       "  <tbody>\n",
       "    <tr>\n",
       "      <th>0</th>\n",
       "      <td>61 days</td>\n",
       "      <td>0.731749</td>\n",
       "      <td>0.855423</td>\n",
       "      <td>0.708125</td>\n",
       "      <td>0.079015</td>\n",
       "      <td>0.071685</td>\n",
       "      <td>0.380952</td>\n",
       "    </tr>\n",
       "    <tr>\n",
       "      <th>1</th>\n",
       "      <td>62 days</td>\n",
       "      <td>0.900625</td>\n",
       "      <td>0.949012</td>\n",
       "      <td>0.825101</td>\n",
       "      <td>0.085354</td>\n",
       "      <td>0.086172</td>\n",
       "      <td>0.285714</td>\n",
       "    </tr>\n",
       "    <tr>\n",
       "      <th>2</th>\n",
       "      <td>89 days</td>\n",
       "      <td>0.744382</td>\n",
       "      <td>0.862776</td>\n",
       "      <td>0.713703</td>\n",
       "      <td>0.075617</td>\n",
       "      <td>0.086172</td>\n",
       "      <td>0.333333</td>\n",
       "    </tr>\n",
       "    <tr>\n",
       "      <th>3</th>\n",
       "      <td>90 days</td>\n",
       "      <td>0.574954</td>\n",
       "      <td>0.758257</td>\n",
       "      <td>0.584116</td>\n",
       "      <td>0.054702</td>\n",
       "      <td>0.041338</td>\n",
       "      <td>0.571429</td>\n",
       "    </tr>\n",
       "    <tr>\n",
       "      <th>4</th>\n",
       "      <td>120 days</td>\n",
       "      <td>0.471565</td>\n",
       "      <td>0.686706</td>\n",
       "      <td>0.544250</td>\n",
       "      <td>0.054785</td>\n",
       "      <td>0.050609</td>\n",
       "      <td>0.500000</td>\n",
       "    </tr>\n",
       "    <tr>\n",
       "      <th>5</th>\n",
       "      <td>121 days</td>\n",
       "      <td>0.579008</td>\n",
       "      <td>0.760926</td>\n",
       "      <td>0.596340</td>\n",
       "      <td>0.056887</td>\n",
       "      <td>0.050609</td>\n",
       "      <td>0.535714</td>\n",
       "    </tr>\n",
       "    <tr>\n",
       "      <th>6</th>\n",
       "      <td>150 days</td>\n",
       "      <td>0.493886</td>\n",
       "      <td>0.702770</td>\n",
       "      <td>0.543208</td>\n",
       "      <td>0.053867</td>\n",
       "      <td>0.036859</td>\n",
       "      <td>0.571429</td>\n",
       "    </tr>\n",
       "    <tr>\n",
       "      <th>7</th>\n",
       "      <td>151 days</td>\n",
       "      <td>0.406926</td>\n",
       "      <td>0.637908</td>\n",
       "      <td>0.449142</td>\n",
       "      <td>0.043255</td>\n",
       "      <td>0.024620</td>\n",
       "      <td>0.678571</td>\n",
       "    </tr>\n",
       "    <tr>\n",
       "      <th>8</th>\n",
       "      <td>181 days</td>\n",
       "      <td>0.579037</td>\n",
       "      <td>0.760944</td>\n",
       "      <td>0.519201</td>\n",
       "      <td>0.049256</td>\n",
       "      <td>0.024620</td>\n",
       "      <td>0.642857</td>\n",
       "    </tr>\n",
       "    <tr>\n",
       "      <th>9</th>\n",
       "      <td>182 days</td>\n",
       "      <td>0.929637</td>\n",
       "      <td>0.964177</td>\n",
       "      <td>0.783182</td>\n",
       "      <td>0.062932</td>\n",
       "      <td>0.047160</td>\n",
       "      <td>0.535714</td>\n",
       "    </tr>\n",
       "    <tr>\n",
       "      <th>10</th>\n",
       "      <td>211 days</td>\n",
       "      <td>1.313382</td>\n",
       "      <td>1.146029</td>\n",
       "      <td>0.973186</td>\n",
       "      <td>0.079216</td>\n",
       "      <td>0.084639</td>\n",
       "      <td>0.357143</td>\n",
       "    </tr>\n",
       "    <tr>\n",
       "      <th>11</th>\n",
       "      <td>212 days</td>\n",
       "      <td>2.282092</td>\n",
       "      <td>1.510660</td>\n",
       "      <td>1.385606</td>\n",
       "      <td>0.100586</td>\n",
       "      <td>0.103222</td>\n",
       "      <td>0.071429</td>\n",
       "    </tr>\n",
       "    <tr>\n",
       "      <th>12</th>\n",
       "      <td>242 days</td>\n",
       "      <td>2.215067</td>\n",
       "      <td>1.488310</td>\n",
       "      <td>1.336723</td>\n",
       "      <td>0.098826</td>\n",
       "      <td>0.104828</td>\n",
       "      <td>0.142857</td>\n",
       "    </tr>\n",
       "    <tr>\n",
       "      <th>13</th>\n",
       "      <td>243 days</td>\n",
       "      <td>2.422238</td>\n",
       "      <td>1.556354</td>\n",
       "      <td>1.435014</td>\n",
       "      <td>0.099133</td>\n",
       "      <td>0.104828</td>\n",
       "      <td>0.142857</td>\n",
       "    </tr>\n",
       "    <tr>\n",
       "      <th>14</th>\n",
       "      <td>273 days</td>\n",
       "      <td>2.041766</td>\n",
       "      <td>1.428904</td>\n",
       "      <td>1.278246</td>\n",
       "      <td>0.092173</td>\n",
       "      <td>0.103928</td>\n",
       "      <td>0.214286</td>\n",
       "    </tr>\n",
       "    <tr>\n",
       "      <th>15</th>\n",
       "      <td>274 days</td>\n",
       "      <td>0.942788</td>\n",
       "      <td>0.970973</td>\n",
       "      <td>0.866254</td>\n",
       "      <td>0.067408</td>\n",
       "      <td>0.058582</td>\n",
       "      <td>0.285714</td>\n",
       "    </tr>\n",
       "    <tr>\n",
       "      <th>16</th>\n",
       "      <td>303 days</td>\n",
       "      <td>0.537715</td>\n",
       "      <td>0.733290</td>\n",
       "      <td>0.703804</td>\n",
       "      <td>0.063889</td>\n",
       "      <td>0.074045</td>\n",
       "      <td>0.214286</td>\n",
       "    </tr>\n",
       "    <tr>\n",
       "      <th>17</th>\n",
       "      <td>304 days</td>\n",
       "      <td>0.542417</td>\n",
       "      <td>0.736490</td>\n",
       "      <td>0.636922</td>\n",
       "      <td>0.060380</td>\n",
       "      <td>0.042443</td>\n",
       "      <td>0.464286</td>\n",
       "    </tr>\n",
       "    <tr>\n",
       "      <th>18</th>\n",
       "      <td>334 days</td>\n",
       "      <td>0.483337</td>\n",
       "      <td>0.695225</td>\n",
       "      <td>0.574570</td>\n",
       "      <td>0.060395</td>\n",
       "      <td>0.042443</td>\n",
       "      <td>0.571429</td>\n",
       "    </tr>\n",
       "    <tr>\n",
       "      <th>19</th>\n",
       "      <td>335 days</td>\n",
       "      <td>1.000010</td>\n",
       "      <td>1.000005</td>\n",
       "      <td>0.823710</td>\n",
       "      <td>0.084695</td>\n",
       "      <td>0.060016</td>\n",
       "      <td>0.392857</td>\n",
       "    </tr>\n",
       "    <tr>\n",
       "      <th>20</th>\n",
       "      <td>364 days</td>\n",
       "      <td>1.002894</td>\n",
       "      <td>1.001446</td>\n",
       "      <td>0.860326</td>\n",
       "      <td>0.090974</td>\n",
       "      <td>0.082500</td>\n",
       "      <td>0.214286</td>\n",
       "    </tr>\n",
       "    <tr>\n",
       "      <th>21</th>\n",
       "      <td>365 days</td>\n",
       "      <td>1.155725</td>\n",
       "      <td>1.075047</td>\n",
       "      <td>0.844783</td>\n",
       "      <td>0.083410</td>\n",
       "      <td>0.082500</td>\n",
       "      <td>0.321429</td>\n",
       "    </tr>\n",
       "  </tbody>\n",
       "</table>\n",
       "</div>"
      ],
      "text/plain": [
       "    horizon       mse      rmse       mae      mape     mdape  coverage\n",
       "0   61 days  0.731749  0.855423  0.708125  0.079015  0.071685  0.380952\n",
       "1   62 days  0.900625  0.949012  0.825101  0.085354  0.086172  0.285714\n",
       "2   89 days  0.744382  0.862776  0.713703  0.075617  0.086172  0.333333\n",
       "3   90 days  0.574954  0.758257  0.584116  0.054702  0.041338  0.571429\n",
       "4  120 days  0.471565  0.686706  0.544250  0.054785  0.050609  0.500000\n",
       "5  121 days  0.579008  0.760926  0.596340  0.056887  0.050609  0.535714\n",
       "6  150 days  0.493886  0.702770  0.543208  0.053867  0.036859  0.571429\n",
       "7  151 days  0.406926  0.637908  0.449142  0.043255  0.024620  0.678571\n",
       "8  181 days  0.579037  0.760944  0.519201  0.049256  0.024620  0.642857\n",
       "9  182 days  0.929637  0.964177  0.783182  0.062932  0.047160  0.535714\n",
       "10 211 days  1.313382  1.146029  0.973186  0.079216  0.084639  0.357143\n",
       "11 212 days  2.282092  1.510660  1.385606  0.100586  0.103222  0.071429\n",
       "12 242 days  2.215067  1.488310  1.336723  0.098826  0.104828  0.142857\n",
       "13 243 days  2.422238  1.556354  1.435014  0.099133  0.104828  0.142857\n",
       "14 273 days  2.041766  1.428904  1.278246  0.092173  0.103928  0.214286\n",
       "15 274 days  0.942788  0.970973  0.866254  0.067408  0.058582  0.285714\n",
       "16 303 days  0.537715  0.733290  0.703804  0.063889  0.074045  0.214286\n",
       "17 304 days  0.542417  0.736490  0.636922  0.060380  0.042443  0.464286\n",
       "18 334 days  0.483337  0.695225  0.574570  0.060395  0.042443  0.571429\n",
       "19 335 days  1.000010  1.000005  0.823710  0.084695  0.060016  0.392857\n",
       "20 364 days  1.002894  1.001446  0.860326  0.090974  0.082500  0.214286\n",
       "21 365 days  1.155725  1.075047  0.844783  0.083410  0.082500  0.321429"
      ]
     },
     "execution_count": 25,
     "metadata": {},
     "output_type": "execute_result"
    }
   ],
   "source": [
    "df_p"
   ]
  },
  {
   "cell_type": "code",
   "execution_count": 26,
   "metadata": {},
   "outputs": [
    {
     "data": {
      "image/png": "[encoded data removed]",
      "text/plain": [
       "<Figure size 720x432 with 1 Axes>"
      ]
     },
     "metadata": {},
     "output_type": "display_data"
    }
   ],
   "source": [
    "fig = plot_cross_validation_metric(df_cv, metric='mape')\n",
    "plt.show()"
   ]
  },
  {
   "cell_type": "markdown",
   "metadata": {},
   "source": [
    "The plot above is the standard output plot of the CV from `prophet`. It is different to what we have looked at before. Each grey point represents a prediction, made on a particular month. Because we made predictions over several horizons each are plotted on the graph. At around horizon 30 for example we see each of the plots over the first month of each of the 6, 12 month validations. The blue line shows a rolling window of the mape scores 'averaged' over the cv predictions. More info [here](https://facebook.github.io/prophet/docs/diagnostics.html).\n",
    "\n",
    "We are normally interested in the mean and std of the MAPE scores found at each window. This can be calculated from the dataframe returned from the `cross_validation` function above, using the function below. "
   ]
  },
  {
   "cell_type": "code",
   "execution_count": 27,
   "metadata": {},
   "outputs": [
    {
     "data": {
      "text/plain": [
       "count    6.000000\n",
       "mean     0.072154\n",
       "std      0.020667\n",
       "min      0.052698\n",
       "25%      0.059283\n",
       "50%      0.066481\n",
       "75%      0.077062\n",
       "max      0.109789\n",
       "Name: mape, dtype: float64"
      ]
     },
     "execution_count": 27,
     "metadata": {},
     "output_type": "execute_result"
    }
   ],
   "source": [
    "def mape_performance_calc(df_cv):\n",
    "    \" function to replace prophet cv 'performance metrics' function\"\n",
    "    df_cv['mape'] = abs(df_cv['y'] - df_cv['yhat']) /df_cv['y'] # make column with individual abs normalised values\n",
    "    results = df_cv.groupby(['cutoff']).mean() # finish mape calc for each of the folds (distinguised in 'cutoff' column of df_cv)\n",
    "    results = results.describe() # sumarise folds information\n",
    "    results = results['mape']# # return only mape column\n",
    "    return(results)\n",
    "\n",
    "mape_performance_calc(df_cv)"
   ]
  },
  {
   "cell_type": "markdown",
   "metadata": {},
   "source": [
    "We find a MAPE of ~7.2% with std ~2%. This would have estimated the error we saw on the test set to a good degree."
   ]
  },
  {
   "cell_type": "markdown",
   "metadata": {},
   "source": [
    "## Hyper-parameters\n",
    "\n",
    "The model plot we saw earlier did not fit very well to the train data. We can change the model assumptions (like hyper-parameters) to change how well it is fitting the train data.\n",
    "\n",
    "`Prophet(\n",
    "    growth='linear',\n",
    "    changepoints=None,\n",
    "    n_changepoints=25,\n",
    "    changepoint_range=0.8,\n",
    "    yearly_seasonality='auto',\n",
    "    weekly_seasonality='auto',\n",
    "    daily_seasonality='auto',\n",
    "    holidays=None,\n",
    "    seasonality_mode='additive',\n",
    "    seasonality_prior_scale=10.0,\n",
    "    holidays_prior_scale=10.0,\n",
    "    changepoint_prior_scale=0.05,\n",
    "    mcmc_samples=0,\n",
    "    interval_width=0.8,\n",
    "    uncertainty_samples=1000,\n",
    "    stan_backend=None,\n",
    ")`"
   ]
  },
  {
   "cell_type": "markdown",
   "metadata": {},
   "source": [
    "**TASK**\n",
    "\n",
    "* Try changing some of these. [This](https://towardsdatascience.com/implementing-facebook-prophet-efficiently-c241305405a3) blog is very useful in explaining the parameters and what they do.\n",
    "* Find at least one change which improves your model cross validation score"
   ]
  },
  {
   "cell_type": "code",
   "execution_count": 28,
   "metadata": {},
   "outputs": [
    {
     "name": "stderr",
     "output_type": "stream",
     "text": [
      "INFO:fbprophet:Disabling weekly seasonality. Run prophet with weekly_seasonality=True to override this.\n",
      "INFO:fbprophet:Disabling daily seasonality. Run prophet with daily_seasonality=True to override this.\n",
      "INFO:fbprophet:Making 6 forecasts with cutoffs between 1953-12-02 00:00:00 and 1958-12-01 00:00:00\n"
     ]
    },
    {
     "data": {
      "application/vnd.jupyter.widget-view+json": {
       "model_id": "8d5386d790bd40afa5cd9676eed37659",
       "version_major": 2,
       "version_minor": 0
      },
      "text/plain": [
       "  0%|          | 0/6 [00:00<?, ?it/s]"
      ]
     },
     "metadata": {},
     "output_type": "display_data"
    },
    {
     "data": {
      "image/png": "[encoded data removed]",
      "text/plain": [
       "<Figure size 720x432 with 1 Axes>"
      ]
     },
     "metadata": {},
     "output_type": "display_data"
    }
   ],
   "source": [
    "#### your solution here\n",
    "\n",
    "# growth = 'linear' car les données ont tendance à augmenter avec le temps sans saturation\n",
    "# holidays = None (c'est pour quand y'as des vacances ou des jours fériés qui affectent les données)\n",
    "# seasonality_mode = 'multiplicative'\n",
    "\n",
    "model = Prophet(growth='linear', holidays=None, seasonality_mode='multiplicative')\n",
    "model.fit(train_df)\n",
    "df_cv = cross_validation(model, initial='1461 days', period='365 days', horizon = '365 days')\n",
    "df_p = performance_metrics(df_cv)\n",
    "fig = plot_cross_validation_metric(df_cv, metric='mape')\n",
    "plt.show()"
   ]
  },
  {
   "cell_type": "markdown",
   "metadata": {},
   "source": [
    "# Exercise 1 - energy data forecasting ⚡\n",
    "\n",
    "Forecasting energy demand is big business and very important in helping energy producers maintain the balance within the electrical grid. You can find forecasts of energy demands for France in realtime [here](https://www.rte-france.com/fr/eco2mix/eco2mix-consommation). \n",
    "\n",
    "Your mission now is to imagine a useful use-case for an enterprise and use `Prophet` to make forecasts on the energy data you have already seen (in data viz module) for France! Feel free to choose :\n",
    "* the type of energy generation/consommation\n",
    "* france or regional,\n",
    "* frequency scale you wish to try!\n",
    "\n",
    "Try and consider a forecast horizon that seems useful for the frequency at which you are making your predictions e.g. predicting the hourly forecast for 12 months propbably cannot be used in any meaningful way - and is probably not going be very easy to forecast accurately.\n",
    "\n",
    "Consider that:\n",
    "* Reducing the scale of the data, i.e. to regional\n",
    "* Higher frequency predictions\n",
    "* longer periods of forecast\n",
    "\n",
    "...are likely to make it more difficult to make a good forecast.\n",
    "\n",
    "Consider also that you must pick the most suitable cross validation procedure for your problem. Consider the initial, step and horizon you will use carefully.\n",
    "\n",
    "Once you have made your model:\n",
    "1. Compare it to a naive model!! If it does not beat this then try reducing your forecast horizon to find at what scale you can make useful predictions.\n",
    "2. Try tuning the model in some way to improve performance (add holidays might be a good idea)\n",
    "3. If you have time compare your model to an ARIMA model. Why might there be differences in perfomance between the two approachecs to forecasting?\n",
    "\n",
    "(feel free to use a new notebook for this task!)"
   ]
  }
 ],
 "metadata": {
  "kernelspec": {
   "display_name": "Python 3",
   "language": "python",
   "name": "python3"
  },
  "language_info": {
   "codemirror_mode": {
    "name": "ipython",
    "version": 3
   },
   "file_extension": ".py",
   "mimetype": "text/x-python",
   "name": "python",
   "nbconvert_exporter": "python",
   "pygments_lexer": "ipython3",
   "version": "3.8.10"
  }
 },
 "nbformat": 4,
 "nbformat_minor": 4
}
